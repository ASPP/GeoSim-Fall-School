{
 "metadata": {
  "name": "",
  "signature": "sha256:75131c9c2d071695bb956e911b9554a8f4076ec393cbf0a252d197fed77758c7"
 },
 "nbformat": 3,
 "nbformat_minor": 0,
 "worksheets": [
  {
   "cells": [
    {
     "cell_type": "heading",
     "level": 1,
     "metadata": {},
     "source": [
      "Python Exercises"
     ]
    },
    {
     "cell_type": "markdown",
     "metadata": {},
     "source": [
      "## Simple arithmetics. Calculate the following:\n",
      "\n",
      "* 2^5\n",
      "* 31/2\n",
      "* -11 mod 10"
     ]
    },
    {
     "cell_type": "markdown",
     "metadata": {},
     "source": [
      "## Execute 3/2 and 3//2 and 3.0/2.0. Are they results like you expected?\n",
      "\n",
      "(Note, results differ in Python 2 and 3.)"
     ]
    },
    {
     "cell_type": "markdown",
     "metadata": {},
     "source": [
      "## Lists. Define the following lists:\n",
      "\n",
      "* Odd numbers from 1 to 11. Hint: Use range method.\n",
      "* A list of arbitrary number of zeros\n",
      "* Elements A for i between 0 and 10 according to the following formula:\n",
      "  \\begin{align} A_i = \\sum_{k=1}^i i^k \\end{align}\n",
      "* 10x10 identity matrix."
     ]
    },
    {
     "cell_type": "markdown",
     "metadata": {},
     "source": [
      "## Play with objects and their identity.\n",
      "\n",
      "* Create a list, assign it to variables `a` and `b`.\n",
      "* Mutate the list a by assigning or appending elements.\n",
      "* Check what happens to b.\n",
      "* Use id to check the identities of a and b.\n",
      "* Assign a copy of the list (by using a[:]) to a.\n",
      "* Check the identies again.\n",
      "* Do the same with a dict (also mutable), and a str (immutable)."
     ]
    },
    {
     "cell_type": "markdown",
     "metadata": {},
     "source": [
      "## Write a script to print out a multiplication table of size n\u00d7n. Read n from standard input.\n",
      "\n",
      "     n = 4\n",
      "    \n",
      "      | 1  2  3  4\n",
      "    --+-----------\n",
      "    1 | 1  2  3  4\n",
      "    2 | 2  4  6  8\n",
      "    3 | 3  6  9 12\n",
      "    4 | 4  9 12 16\n",
      "\n",
      "Make the table aligned."
     ]
    },
    {
     "cell_type": "markdown",
     "metadata": {},
     "source": [
      "## Introspection (20 min). In Python interpreter define following variables:\n",
      "\n",
      "* empty string\n",
      "* empty list\n",
      "* empty dictionary\n",
      "\n",
      "Using built-in dir and help method find out which methods these data structures offer. Print a table with non-special methods (without underscores). Read the documentation for function string.translate. Give a working example documenting at least one of the listed methods."
     ]
    },
    {
     "cell_type": "markdown",
     "metadata": {},
     "source": [
      "## Enigma (20 min)\n",
      "\n",
      "Recover the message hidden in the string using the following translation: a \u2794 c, b \u2794 d, ..., z \u2794 b.\n",
      "\n",
      "    g fmnc wms bgblr rpylqjyrc gr zw fylb. rfyrq ufyr\n",
      "    amknsrcpq ypc dmp. bmgle gr gl zw fylb gq glcddgagclr ylb rfyr'q\n",
      "    ufw rfgq rcvr gq qm jmle. sqgle qrp.rpylqjyrc() gq pcamkkclbcb!"
     ]
    },
    {
     "cell_type": "markdown",
     "metadata": {},
     "source": [
      "## Binary conversion (20 min)\n",
      "\n",
      "Write a program converting integers to their binary representation. You can store the result either in a list or in a string."
     ]
    },
    {
     "cell_type": "markdown",
     "metadata": {},
     "source": [
      "Create a file with a function that prints something to the screen. Make the file executable (+x permissions, extentsion .py, right header in the file). Use the trick with `if __name__ == '__main__'` to make sure that the function you wrote is executed when the program is run directly, and not executed, when the program is imported as a module."
     ]
    },
    {
     "cell_type": "markdown",
     "metadata": {},
     "source": [
      "## Import\n",
      "\n",
      "Write a program that counts lines and characters in a file. With your editor, code a Python module called mymode.py which provides three functions:\n",
      "\n",
      "* count_lines(name) - reads an input file and count the number of lines in it Hint: file.readlines() does most of the work for you.\n",
      "* count_chars(name) - reads an input file and counts the number of characters in it Hint: file.read() returns a single string.\n",
      "* count_both(name) - calls both counting functions with a given input filename and returns the tuple containg both answers.\n",
      "\n",
      "Next, test your module interactively, using import. What if your module is in a different directory than your current working directory? Add a \"main\" function to your module."
     ]
    },
    {
     "cell_type": "markdown",
     "metadata": {},
     "source": [
      "## Geometry\n",
      "\n",
      "In a module geometry create a Point class that consists of an ordered pair (x, y, z) representing a point's location on the X, Y and Z axes. The coordinates are passed to the constructor on instatiation and default to origin for any missing coordinate.\n",
      "\n",
      "Define a method distance, to calculate the distance to another point.\n",
      "\n",
      "Define the methods spherical which returns the three corresponding spherical coordinates (\u03c1, \u03a6, \u03b8).\n",
      "\n",
      "Hint: the trigonometrical functions are in the math module."
     ]
    }
   ],
   "metadata": {}
  }
 ]
}